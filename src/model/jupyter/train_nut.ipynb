{
 "cells": [
  {
   "cell_type": "markdown",
   "metadata": {},
   "source": [
    "# 1.Import Libraries"
   ]
  },
  {
   "cell_type": "code",
   "execution_count": 85,
   "metadata": {},
   "outputs": [],
   "source": [
    "import pandas as pd\n",
    "import numpy as np\n",
    "from sklearn.model_selection import train_test_split\n",
    "from sklearn.preprocessing import StandardScaler\n",
    "import torch\n",
    "import torch.nn as nn\n",
    "import torch.optim as optim\n",
    "from torch.utils.data import DataLoader, TensorDataset\n",
    "import joblib"
   ]
  },
  {
   "cell_type": "markdown",
   "metadata": {},
   "source": [
    "# 2. Load Data"
   ]
  },
  {
   "cell_type": "code",
   "execution_count": 86,
   "metadata": {},
   "outputs": [
    {
     "name": "stdout",
     "output_type": "stream",
     "text": [
      "(429, 10) (429,)\n"
     ]
    }
   ],
   "source": [
    "# Load the data\n",
    "data = pd.read_csv('../data/nuts.csv')\n",
    "\n",
    "# Labels\n",
    "# 0 -> M3\n",
    "# 1 -> M4\n",
    "# 2 -> M5\n",
    "\n",
    "# Assuming the last column is the label\n",
    "X = data.iloc[:, :-1].values\n",
    "y = data.iloc[:, -1].values\n",
    "print(X.shape, y.shape)\n",
    "\n",
    "# Split the data into training and testing sets\n",
    "X_train, X_test, y_train, y_test = train_test_split(X, y, test_size=0.2, random_state=42)\n",
    "\n",
    "# Standardize the features\n",
    "scaler = StandardScaler()\n",
    "X_train = scaler.fit_transform(X_train)\n",
    "X_test = scaler.transform(X_test)\n",
    "\n",
    "# Saving Scaler\n",
    "joblib.dump(scaler, 'scaler.pkl')\n",
    "\n",
    "# Convert the data to PyTorch tensors\n",
    "X_train_tensor = torch.tensor(X_train, dtype=torch.float32)\n",
    "y_train_tensor = torch.tensor(y_train, dtype=torch.long)\n",
    "X_test_tensor = torch.tensor(X_test, dtype=torch.float32)\n",
    "y_test_tensor = torch.tensor(y_test, dtype=torch.long)\n",
    "\n",
    "# Create DataLoader for batching\n",
    "train_dataset = TensorDataset(X_train_tensor, y_train_tensor)\n",
    "test_dataset = TensorDataset(X_test_tensor, y_test_tensor)\n",
    "\n",
    "train_loader = DataLoader(train_dataset, batch_size=32, shuffle=True)\n",
    "test_loader = DataLoader(test_dataset, batch_size=32, shuffle=False)"
   ]
  },
  {
   "cell_type": "markdown",
   "metadata": {},
   "source": [
    "# 3. Training the data"
   ]
  },
  {
   "cell_type": "markdown",
   "metadata": {},
   "source": [
    "## 3.1 Neural Network"
   ]
  },
  {
   "cell_type": "code",
   "execution_count": 87,
   "metadata": {},
   "outputs": [
    {
     "name": "stdout",
     "output_type": "stream",
     "text": [
      "Number of classes: 3\n",
      "Epoch 1/20, Loss: 1.0539764057506213\n",
      "Epoch 2/20, Loss: 0.9576868360692804\n",
      "Epoch 3/20, Loss: 0.8703632300550287\n",
      "Epoch 4/20, Loss: 0.7725969769737937\n",
      "Epoch 5/20, Loss: 0.6666828827424482\n",
      "Epoch 6/20, Loss: 0.5565573356368325\n",
      "Epoch 7/20, Loss: 0.4570697410540147\n",
      "Epoch 8/20, Loss: 0.3700415302406658\n",
      "Epoch 9/20, Loss: 0.29846143045208673\n",
      "Epoch 10/20, Loss: 0.2411241422999989\n",
      "Epoch 11/20, Loss: 0.19854377616535535\n",
      "Epoch 12/20, Loss: 0.16774873774160037\n",
      "Epoch 13/20, Loss: 0.14214728975837881\n",
      "Epoch 14/20, Loss: 0.1216404444792054\n",
      "Epoch 15/20, Loss: 0.10684805803678253\n",
      "Epoch 16/20, Loss: 0.0970873615958474\n",
      "Epoch 17/20, Loss: 0.08770656280896881\n",
      "Epoch 18/20, Loss: 0.08150908452543346\n",
      "Epoch 19/20, Loss: 0.07345558872277086\n",
      "Epoch 20/20, Loss: 0.07200432738119905\n",
      "Accuracy on test set: 100.0%\n"
     ]
    }
   ],
   "source": [
    "# Define the neural network architecture\n",
    "class NutClassifier(nn.Module):\n",
    "    def __init__(self, input_size, num_classes):\n",
    "        super(NutClassifier, self).__init__()\n",
    "        self.fc1 = nn.Linear(input_size, 64)\n",
    "        self.fc2 = nn.Linear(64, 32)\n",
    "        self.fc3 = nn.Linear(32, num_classes)\n",
    "\n",
    "    def forward(self, x):\n",
    "        x = torch.relu(self.fc1(x))\n",
    "        x = torch.relu(self.fc2(x))\n",
    "        x = self.fc3(x)\n",
    "        return x\n",
    "\n",
    "# Determine the number of unique classes\n",
    "num_classes = len(np.unique(y))\n",
    "print(f'Number of classes: {num_classes}')\n",
    "\n",
    "# Instantiate the model with the correct number of input features and classes\n",
    "model = NutClassifier(input_size=X_train.shape[1], num_classes=num_classes)\n",
    "\n",
    "# Define the loss function and optimizer\n",
    "criterion = nn.CrossEntropyLoss()\n",
    "optimizer = optim.Adam(model.parameters(), lr=0.001)\n",
    "\n",
    "# Training loop\n",
    "num_epochs = 20\n",
    "\n",
    "for epoch in range(num_epochs):\n",
    "    model.train()\n",
    "    running_loss = 0.0\n",
    "    for inputs, labels in train_loader:\n",
    "        optimizer.zero_grad()\n",
    "        outputs = model(inputs)\n",
    "        loss = criterion(outputs, labels)\n",
    "        loss.backward()\n",
    "        optimizer.step()\n",
    "        running_loss += loss.item()\n",
    "    \n",
    "    print(f'Epoch {epoch+1}/{num_epochs}, Loss: {running_loss/len(train_loader)}')\n",
    "\n",
    "# Evaluate the model on the test set\n",
    "model.eval()\n",
    "correct = 0\n",
    "total = 0\n",
    "with torch.no_grad():\n",
    "    for inputs, labels in test_loader:\n",
    "        outputs = model(inputs)\n",
    "        _, predicted = torch.max(outputs.data, 1)\n",
    "        total += labels.size(0)\n",
    "        correct += (predicted == labels).sum().item()\n",
    "\n",
    "print(f'Accuracy on test set: {100 * correct / total}%')"
   ]
  },
  {
   "cell_type": "markdown",
   "metadata": {},
   "source": [
    "## 3.2 Naive Bayes"
   ]
  },
  {
   "cell_type": "code",
   "execution_count": 88,
   "metadata": {},
   "outputs": [
    {
     "name": "stdout",
     "output_type": "stream",
     "text": [
      "Naive Bayes Accuracy: 83.72%\n"
     ]
    },
    {
     "data": {
      "text/plain": [
       "['../models/naive_bayes_model.pkl']"
      ]
     },
     "execution_count": 88,
     "metadata": {},
     "output_type": "execute_result"
    }
   ],
   "source": [
    "from sklearn.naive_bayes import GaussianNB\n",
    "from sklearn.metrics import accuracy_score\n",
    "\n",
    "# Train Naive Bayes model\n",
    "nb_model = GaussianNB()\n",
    "nb_model.fit(X_train, y_train)\n",
    "\n",
    "# Test the model\n",
    "y_pred_nb = nb_model.predict(X_test)\n",
    "nb_accuracy = accuracy_score(y_test, y_pred_nb)\n",
    "print(f'Naive Bayes Accuracy: {nb_accuracy * 100:.2f}%')\n",
    "\n",
    "# Save the model\n",
    "joblib.dump(nb_model, '../models/naive_bayes_model.pkl')"
   ]
  },
  {
   "cell_type": "markdown",
   "metadata": {},
   "source": [
    "## 3.3 Decision Tree"
   ]
  },
  {
   "cell_type": "code",
   "execution_count": 89,
   "metadata": {},
   "outputs": [
    {
     "name": "stdout",
     "output_type": "stream",
     "text": [
      "Decision Tree Accuracy: 90.70%\n"
     ]
    },
    {
     "data": {
      "text/plain": [
       "['../models/decision_tree_model.pkl']"
      ]
     },
     "execution_count": 89,
     "metadata": {},
     "output_type": "execute_result"
    }
   ],
   "source": [
    "from sklearn.tree import DecisionTreeClassifier\n",
    "\n",
    "# Train Decision Tree model\n",
    "dt_model = DecisionTreeClassifier(random_state=42, max_depth=5)\n",
    "dt_model.fit(X_train, y_train)\n",
    "\n",
    "# Test the model\n",
    "y_pred_dt = dt_model.predict(X_test)\n",
    "dt_accuracy = accuracy_score(y_test, y_pred_dt)\n",
    "print(f'Decision Tree Accuracy: {dt_accuracy * 100:.2f}%')\n",
    "\n",
    "# Save the model\n",
    "joblib.dump(dt_model, '../models/decision_tree_model.pkl')"
   ]
  },
  {
   "cell_type": "markdown",
   "metadata": {},
   "source": [
    "# 4. Save Model"
   ]
  },
  {
   "cell_type": "code",
   "execution_count": 90,
   "metadata": {},
   "outputs": [],
   "source": [
    "# Save the model weights\n",
    "torch.save(model.state_dict(), 'nut_classifier_weights.pth')"
   ]
  },
  {
   "cell_type": "markdown",
   "metadata": {},
   "source": [
    "# 5. Model Comparison using k-Fold Cross-Validation and Paired T-Test"
   ]
  },
  {
   "cell_type": "code",
   "execution_count": 91,
   "metadata": {},
   "outputs": [
    {
     "name": "stdout",
     "output_type": "stream",
     "text": [
      "Naive Bayes vs Decision Tree: t-statistic = -2.3541, p-value = 0.0782\n",
      "There is no significant difference between Naive Bayes and Decision Tree at 95% confidence level.\n",
      "Naive Bayes vs Neural Network: t-statistic = 1.0856, p-value = 0.3387\n",
      "There is no significant difference between Naive Bayes and Neural Network at 95% confidence level.\n",
      "Decision Tree vs Neural Network: t-statistic = 4.0482, p-value = 0.0155\n",
      "There is a significant difference between Decision Tree and Neural Network at 95% confidence level.\n"
     ]
    },
    {
     "data": {
      "image/png": "[encoded data removed]",
      "text/plain": [
       "<Figure size 1000x600 with 1 Axes>"
      ]
     },
     "metadata": {},
     "output_type": "display_data"
    },
    {
     "data": {
      "text/html": [
       "<div>\n",
       "<style scoped>\n",
       "    .dataframe tbody tr th:only-of-type {\n",
       "        vertical-align: middle;\n",
       "    }\n",
       "\n",
       "    .dataframe tbody tr th {\n",
       "        vertical-align: top;\n",
       "    }\n",
       "\n",
       "    .dataframe thead th {\n",
       "        text-align: right;\n",
       "    }\n",
       "</style>\n",
       "<table border=\"1\" class=\"dataframe\">\n",
       "  <thead>\n",
       "    <tr style=\"text-align: right;\">\n",
       "      <th></th>\n",
       "      <th>Model 1</th>\n",
       "      <th>Accuracy</th>\n",
       "      <th>Model 2</th>\n",
       "      <th>Accuracy</th>\n",
       "      <th>t-statistic</th>\n",
       "      <th>p-value</th>\n",
       "    </tr>\n",
       "  </thead>\n",
       "  <tbody>\n",
       "    <tr>\n",
       "      <th>0</th>\n",
       "      <td>Naive Bayes</td>\n",
       "      <td>77.132695</td>\n",
       "      <td>Decision Tree</td>\n",
       "      <td>89.045144</td>\n",
       "      <td>-2.354097</td>\n",
       "      <td>0.078165</td>\n",
       "    </tr>\n",
       "    <tr>\n",
       "      <th>1</th>\n",
       "      <td>Naive Bayes</td>\n",
       "      <td>77.132695</td>\n",
       "      <td>Neural Network</td>\n",
       "      <td>68.073871</td>\n",
       "      <td>1.085638</td>\n",
       "      <td>0.338689</td>\n",
       "    </tr>\n",
       "    <tr>\n",
       "      <th>2</th>\n",
       "      <td>Decision Tree</td>\n",
       "      <td>89.045144</td>\n",
       "      <td>Neural Network</td>\n",
       "      <td>68.073871</td>\n",
       "      <td>4.048196</td>\n",
       "      <td>0.015499</td>\n",
       "    </tr>\n",
       "  </tbody>\n",
       "</table>\n",
       "</div>"
      ],
      "text/plain": [
       "         Model 1   Accuracy         Model 2   Accuracy  t-statistic   p-value\n",
       "0    Naive Bayes  77.132695   Decision Tree  89.045144    -2.354097  0.078165\n",
       "1    Naive Bayes  77.132695  Neural Network  68.073871     1.085638  0.338689\n",
       "2  Decision Tree  89.045144  Neural Network  68.073871     4.048196  0.015499"
      ]
     },
     "metadata": {},
     "output_type": "display_data"
    }
   ],
   "source": [
    "from sklearn.model_selection import cross_val_score, KFold\n",
    "from scipy.stats import ttest_rel\n",
    "import matplotlib.pyplot as plt\n",
    "\n",
    "# Define the neural network architecture\n",
    "class NutClassifier(nn.Module):\n",
    "    def __init__(self, input_size, num_classes):\n",
    "        super(NutClassifier, self).__init__()\n",
    "        self.fc1 = nn.Linear(input_size, 2)\n",
    "        # self.fc2 = nn.Linear(64, 32)\n",
    "        self.fc3 = nn.Linear(2, num_classes)\n",
    "\n",
    "    def forward(self, x):\n",
    "        x = torch.relu(self.fc1(x))\n",
    "        # x = torch.relu(self.fc2(x))\n",
    "        x = self.fc3(x)\n",
    "        return x\n",
    "\n",
    "naive_bayes = GaussianNB()\n",
    "decision_tree = DecisionTreeClassifier(criterion='entropy', max_depth=5)\n",
    "# Define models\n",
    "models = {\n",
    "    'Naive Bayes': naive_bayes,\n",
    "    'Decision Tree': decision_tree,\n",
    "    'Neural Network': NutClassifier(input_size=X_train.shape[1], num_classes=num_classes),\n",
    "}\n",
    "\n",
    "# Perform k-fold cross-validation\n",
    "k = 5\n",
    "results = {}\n",
    "for name, model in models.items():\n",
    "    if name == 'Neural Network':\n",
    "        # Custom cross-validation for PyTorch model\n",
    "        scores = []\n",
    "        for train_idx, test_idx in KFold(n_splits=k, shuffle=True, random_state=42).split(X):\n",
    "            X_train_fold, X_test_fold = X[train_idx], X[test_idx]\n",
    "            y_train_fold, y_test_fold = y[train_idx], y[test_idx]\n",
    "            X_train_fold = scaler.fit_transform(X_train_fold)\n",
    "            X_test_fold = scaler.transform(X_test_fold)\n",
    "            X_train_tensor = torch.tensor(X_train_fold, dtype=torch.float32)\n",
    "            y_train_tensor = torch.tensor(y_train_fold, dtype=torch.long)\n",
    "            X_test_tensor = torch.tensor(X_test_fold, dtype=torch.float32)\n",
    "            y_test_tensor = torch.tensor(y_test_fold, dtype=torch.long)\n",
    "            train_dataset = TensorDataset(X_train_tensor, y_train_tensor)\n",
    "            test_dataset = TensorDataset(X_test_tensor, y_test_tensor)\n",
    "            train_loader = DataLoader(train_dataset, batch_size=32, shuffle=True)\n",
    "            test_loader = DataLoader(test_dataset, batch_size=32, shuffle=False)\n",
    "            model = NutClassifier(input_size=X_train.shape[1], num_classes=num_classes)\n",
    "            optimizer = optim.Adam(model.parameters(), lr=0.001)\n",
    "            for epoch in range(num_epochs):\n",
    "                model.train()\n",
    "                for inputs, labels in train_loader:\n",
    "                    optimizer.zero_grad()\n",
    "                    outputs = model(inputs)\n",
    "                    loss = criterion(outputs, labels)\n",
    "                    loss.backward()\n",
    "                    optimizer.step()\n",
    "            model.eval()\n",
    "            correct = 0\n",
    "            total = 0\n",
    "            with torch.no_grad():\n",
    "                for inputs, labels in test_loader:\n",
    "                    outputs = model(inputs)\n",
    "                    _, predicted = torch.max(outputs.data, 1)\n",
    "                    total += labels.size(0)\n",
    "                    correct += (predicted == labels).sum().item()\n",
    "            scores.append(100 * correct / total)\n",
    "        results[name] = scores\n",
    "    else:\n",
    "        scores = cross_val_score(model, X, y, cv=k)\n",
    "        results[name] = scores * 100\n",
    "\n",
    "# Perform paired t-test\n",
    "model_names = list(models.keys())\n",
    "t_test_results = []\n",
    "for i in range(len(model_names)):\n",
    "    for j in range(i + 1, len(model_names)):\n",
    "        t_stat, p_value = ttest_rel(results[model_names[i]], results[model_names[j]])\n",
    "        t_test_results.append((model_names[i], sum(results[model_names[i]]) / len(results[model_names[i]]), model_names[j], sum(results[model_names[j]]) / len(results[model_names[j]]), t_stat, p_value))\n",
    "        print(f'{model_names[i]} vs {model_names[j]}: t-statistic = {t_stat:.4f}, p-value = {p_value:.4f}')\n",
    "        if p_value < 0.05:\n",
    "            print(f'There is a significant difference between {model_names[i]} and {model_names[j]} at 95% confidence level.')\n",
    "        else:\n",
    "            print(f'There is no significant difference between {model_names[i]} and {model_names[j]} at 95% confidence level.')\n",
    "\n",
    "# Visualize the results\n",
    "model_accuracies = {name: np.mean(scores) for name, scores in results.items()}\n",
    "plt.figure(figsize=(10, 6))\n",
    "plt.bar(model_accuracies.keys(), model_accuracies.values(), color='skyblue')\n",
    "plt.xlabel('Model')\n",
    "plt.ylabel('Mean Accuracy (%)')\n",
    "plt.title('Model Comparison using k-Fold Cross-Validation')\n",
    "plt.show()\n",
    "\n",
    "# Display t-test results\n",
    "t_test_df = pd.DataFrame(t_test_results, columns=['Model 1', 'Accuracy', 'Model 2', 'Accuracy', 't-statistic', 'p-value'])\n",
    "display(t_test_df)"
   ]
  },
  {
   "cell_type": "markdown",
   "metadata": {},
   "source": [
    "### Interpretation of Results\n",
    "\n",
    "The bar chart above shows the mean accuracy of each model based on 5-fold cross-validation. The paired t-test results are displayed in the table below the chart.\n",
    "\n",
    "#### Key Observations:\n",
    "- **Neural Network**: Achieved the highest accuracy, significantly outperforming all other models. This could be due to its ability to capture complex patterns in the data.\n",
    "- **Decision Tree** : Showed moderate performance. Decision Trees can overfit.\n",
    "- **Naive Bayes**: Had the lowest accuracy, likely due to its assumption of feature independence, which may not hold true for this dataset.\n",
    "\n",
    "#### Hypothesis on Model Performance:\n",
    "1. **Neural Network**: Its deep learning architecture allows it to learn complex relationships in the data, leading to higher accuracy.\n",
    "2. **Decision Tree**: Prone to overfitting, especially with small datasets, which can affect its performance.\n",
    "3. **Naive Bayes**: Assumes feature independence, which may not be valid for this dataset, leading to lower accuracy."
   ]
  },
  {
   "cell_type": "markdown",
   "metadata": {},
   "source": []
  }
 ],
 "metadata": {
  "kernelspec": {
   "display_name": "venv",
   "language": "python",
   "name": "python3"
  },
  "language_info": {
   "codemirror_mode": {
    "name": "ipython",
    "version": 3
   },
   "file_extension": ".py",
   "mimetype": "text/x-python",
   "name": "python",
   "nbconvert_exporter": "python",
   "pygments_lexer": "ipython3",
   "version": "3.11.7"
  }
 },
 "nbformat": 4,
 "nbformat_minor": 2
}
