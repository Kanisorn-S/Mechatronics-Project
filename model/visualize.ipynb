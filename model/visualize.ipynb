{
 "cells": [
  {
   "cell_type": "code",
   "execution_count": 2,
   "metadata": {},
   "outputs": [],
   "source": [
    "import numpy as np\n",
    "from sklearn.linear_model import LinearRegression\n",
    "import joblib  # for saving the model\n",
    "import os\n",
    "import matplotlib.pyplot as plt"
   ]
  },
  {
   "cell_type": "code",
   "execution_count": 7,
   "metadata": {},
   "outputs": [
    {
     "name": "stdout",
     "output_type": "stream",
     "text": [
      "cx: 234.17415006603238,cy 311.6191449169259,fx 355.0463496661696\n"
     ]
    }
   ],
   "source": [
    "#load camera calibration\n",
    "savedir=\"camera_info\"\n",
    "cam_mtx=np.load(os.path.join('../', savedir, 'cam_mtx.npy'))\n",
    "dist=np.load(os.path.join('../', savedir, 'dist.npy'))\n",
    "newcam_mtx=np.load(os.path.join('../', savedir, 'newcam_mtx.npy'))\n",
    "roi=np.load(os.path.join('../', savedir, 'roi.npy'))\n",
    "\n",
    "\n",
    "#load center points from New Camera matrix\n",
    "cx=newcam_mtx[0,2]\n",
    "cy=newcam_mtx[1,2]\n",
    "fx=newcam_mtx[0,0]\n",
    "\n",
    "print(\"cx: \"+str(cx)+\",cy \"+str(cy)+\",fx \"+str(fx))\n",
    "# Sample data (replace this with your actual data)\n",
    "X_center=437\n",
    "Y_center=515\n",
    "Z_center=486\n",
    "worldPoints=np.array([[X_center,Y_center,Z_center],\n",
    "                       [495,225,524],\n",
    "                       [720,225,524],\n",
    "                       [945,225,525],\n",
    "                       [495,450,491],\n",
    "                       [720,450,495],\n",
    "                       [945,450,497],\n",
    "                       [495,675,467],\n",
    "                       [720,675,466],\n",
    "                       [945,675,467]], dtype=np.float32)\n",
    "\n",
    "#MANUALLY INPUT THE DETECTED IMAGE COORDINATES HERE\n",
    "\n",
    "#[u,v] center + 9 Image points\n",
    "imagePoints=np.array([[cx,cy],\n",
    "                       [303-50, 237],\n",
    "                       [367-50, 237],\n",
    "                       [430-50, 235],\n",
    "                       [303-50, 294],\n",
    "                       [367-50, 293],\n",
    "                       [433-50, 293],\n",
    "                       [298-50, 357],\n",
    "                       [367-50, 357],\n",
    "                       [437-50, 357]], dtype=np.float32)"
   ]
  },
  {
   "cell_type": "code",
   "execution_count": 9,
   "metadata": {},
   "outputs": [
    {
     "data": {
      "text/plain": [
       "<function matplotlib.pyplot.show(close=None, block=None)>"
      ]
     },
     "execution_count": 9,
     "metadata": {},
     "output_type": "execute_result"
    },
    {
     "data": {
      "image/png": "[encoded data removed]",
      "text/plain": [
       "<Figure size 640x480 with 1 Axes>"
      ]
     },
     "metadata": {},
     "output_type": "display_data"
    }
   ],
   "source": [
    "plt.scatter(imagePoints[:, 1], worldPoints[:, 1])\n",
    "plt.show"
   ]
  },
  {
   "cell_type": "code",
   "execution_count": null,
   "metadata": {},
   "outputs": [],
   "source": []
  }
 ],
 "metadata": {
  "kernelspec": {
   "display_name": "venv",
   "language": "python",
   "name": "python3"
  },
  "language_info": {
   "codemirror_mode": {
    "name": "ipython",
    "version": 3
   },
   "file_extension": ".py",
   "mimetype": "text/x-python",
   "name": "python",
   "nbconvert_exporter": "python",
   "pygments_lexer": "ipython3",
   "version": "3.12.7"
  }
 },
 "nbformat": 4,
 "nbformat_minor": 2
}
